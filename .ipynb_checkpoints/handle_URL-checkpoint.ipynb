{
 "cells": [
  {
   "cell_type": "code",
   "execution_count": 1,
   "metadata": {},
   "outputs": [],
   "source": [
    "import numpy as np\n",
    "import pandas as pd\n",
    "import requests\n",
    "import re"
   ]
  },
  {
   "cell_type": "code",
   "execution_count": 2,
   "metadata": {},
   "outputs": [],
   "source": [
    "raw_dataset = pd.read_csv('http://www.dei.unipd.it/~silvello/FIS2020/fifa19.csv')"
   ]
  },
  {
   "cell_type": "code",
   "execution_count": null,
   "metadata": {},
   "outputs": [],
   "source": [
    "#https://gist.github.com/tadast/8827699\n",
    "country_code_dataset = pd.read_csv('https://gist.githubusercontent.com/tadast/8827699/raw/f5cac3d42d16b78348610fc4ec301e9234f82821/countries_codes_and_coordinates.csv')"
   ]
  },
  {
   "cell_type": "code",
   "execution_count": null,
   "metadata": {},
   "outputs": [],
   "source": [
    "#https://www.ip2location.com/free/iso3166-2\n",
    "region_code_dataset = pd.read_csv('https://raw.githubusercontent.com/wujiani/project/main/IP2LOCATION-ISO3166-2.CSV')"
   ]
  },
  {
   "cell_type": "code",
   "execution_count": 3,
   "metadata": {},
   "outputs": [],
   "source": [
    "i_photo = 0\n",
    "for each_photo in raw_dataset[\"ID\"]:\n",
    "    each_photo = str(each_photo)\n",
    "    if len(each_photo) < 6:\n",
    "        each_photo = \"0\"*(6-len(each_photo))+each_photo\n",
    "    each_photo_new = \"https://cdn.sofifa.com/players/{}/{}/19_360.png\".format(each_photo[:3],each_photo[3:])\n",
    "    raw_dataset.loc[i_photo,(\"Photo\")] = each_photo_new\n",
    "    i_photo +=1"
   ]
  },
  {
   "cell_type": "code",
   "execution_count": 5,
   "metadata": {},
   "outputs": [],
   "source": [
    "i_team = 0\n",
    "for each_team in raw_dataset[\"Club Logo\"]:\n",
    "    a_team = re.sub(\"https://cdn.sofifa.org/flags/\",\"\",each_team)\n",
    "    a_team = re.sub(\"https://cdn.sofifa.org/teams/2/light/\",\"\",a_team)\n",
    "    b_team = re.sub(\".png\",\"\",a_team)\n",
    "    each_team_new = \"https://cdn.sofifa.com/teams/{}/360.png\".format(b_team)\n",
    "    raw_dataset.loc[i_team,(\"Club Logo\")] = each_team_new\n",
    "    i_team +=1"
   ]
  },
  {
   "cell_type": "code",
   "execution_count": 6,
   "metadata": {},
   "outputs": [],
   "source": [
    "country = country_code_dataset[\"Country\"]\n",
    "#ValueError: 'Bosnia Herzegovina' is not in list\n",
    "a = list(country).index('Bosnia and Herzegovina')\n",
    "country[a] = 'Bosnia Herzegovina' \n",
    "#ValueError: 'Korea Republic' is not in list\n",
    "b = list(country).index('Korea, Republic of')\n",
    "country[b] = 'Korea Republic' \n",
    "#ValueError: 'Central African Rep.' is not in list\n",
    "c = list(country).index('Central African Republic')\n",
    "country[c] = 'Central African Rep.' \n",
    "#ValueError: 'DR Congo' is not in list\n",
    "d = list(country).index('Congo, the Democratic Republic of the')\n",
    "country[d] = 'DR Congo'\n",
    "#ValueError: 'Republic of Ireland' is not in list\n",
    "e = list(country).index('Ireland')\n",
    "country[e] = 'Republic of Ireland' \n",
    "#ValueError: 'Syria' is not in list\n",
    "f = list(country).index('Syrian Arab Republic')\n",
    "country[f] = 'Syria' \n",
    "#ValueError: 'Iran' is not in list\n",
    "g = list(country).index('Iran, Islamic Republic of')\n",
    "country[g] = 'Iran'\n",
    "#ValueError: 'FYR Macedonia' is not in list\n",
    "h = list(country).index('Macedonia, the former Yugoslav Republic of')\n",
    "country[h] = 'FYR Macedonia'\n",
    "#ValueError: 'China PR' is not in list\n",
    "i = list(country).index('China')\n",
    "country[i] = 'China PR'\n",
    "#ValueError: 'Guinea Bissau' is not in list\n",
    "j = list(country).index('Guinea-Bissau')\n",
    "country[j] = 'Guinea Bissau'\n",
    "#ValueError: 'Tanzania' is not in list\n",
    "k = list(country).index('Tanzania, United Republic of')\n",
    "country[k] = 'Tanzania'\n",
    "#ValueError: 'Moldova' is not in list\n",
    "l = list(country).index('Moldova, Republic of')\n",
    "country[l] = 'Moldova'\n",
    "#ValueError: 'Trinidad & Tobago' is not in list\n",
    "m = list(country).index('Trinidad and Tobago')\n",
    "country[m] = 'Trinidad & Tobago'\n",
    "#ValueError: 'São Tomé & Príncipe' is not in list\n",
    "n = list(country).index('Sao Tome and Principe')\n",
    "country[n] = 'São Tomé & Príncipe'\n",
    "#ValueError: 'Korea DPR' is not in list\n",
    "o = list(country).index(\"Korea, Democratic People's Republic of\")\n",
    "country[o] = 'Korea DPR'\n",
    "#ValueError: 'St Kitts Nevis' is not in list\n",
    "p = list(country).index('Saint Kitts and Nevis')\n",
    "country[p] = 'St Kitts Nevis'\n",
    "#ValueError: 'Antigua & Barbuda' is not in list\n",
    "q = list(country).index('Antigua and Barbuda')\n",
    "country[q] = 'Antigua & Barbuda'\n",
    "#ValueError: 'Palestine' is not in list\n",
    "r = list(country).index('Palestinian Territory, Occupied')\n",
    "country[r] = 'Palestine'\n",
    "#ValueError: 'St Lucia' is not in list\n",
    "s = list(country).index('Saint Lucia')\n",
    "country[s] = 'St Lucia'"
   ]
  },
  {
   "cell_type": "code",
   "execution_count": 7,
   "metadata": {},
   "outputs": [],
   "source": [
    "i_country = 0\n",
    "region = region_code_dataset[\"subdivision_name\"]\n",
    "for each_country in raw_dataset[\"Nationality\"]:\n",
    "    try:\n",
    "        country_num = list(country).index(each_country)  \n",
    "        country_code = country_code_dataset[\"Alpha-2 code\"][country_num].lower()#大写变小写\n",
    "        each_flag_new =  \"https://cdn.sofifa.com/flags/{}.png\".format(country_code[2:-1])\n",
    "    except ValueError:\n",
    "        #ValueError: 'Kosovo' is not in list\n",
    "        if each_country == \"Kosovo\":\n",
    "            each_flag_new = \"https://cdn.sofifa.com/flags/xk.png\"\n",
    "        else:\n",
    "            #'England' is not in list\n",
    "            region_num = list(region).index(each_country)  \n",
    "            region_code = region_code_dataset[\"code\"][region_num].lower()#大写变小写\n",
    "            each_flag_new = \"https://cdn.sofifa.com/flags/{}.png\".format(region_code)\n",
    "    raw_dataset.loc[i_country,(\"Flag\")] = each_flag_new \n",
    "    i_country +=1"
   ]
  },
  {
   "cell_type": "code",
   "execution_count": 8,
   "metadata": {},
   "outputs": [],
   "source": [
    "#可不执行\n",
    "raw_dataset.to_csv(r'D:\\project\\1_fifa19\\fifa19_new.csv',encoding='utf_8_sig')"
   ]
  },
  {
   "cell_type": "code",
   "execution_count": 5,
   "metadata": {},
   "outputs": [],
   "source": [
    "df = raw_dataset"
   ]
  },
  {
   "cell_type": "code",
   "execution_count": 7,
   "metadata": {},
   "outputs": [
    {
     "data": {
      "text/plain": [
       "110512"
      ]
     },
     "execution_count": 7,
     "metadata": {},
     "output_type": "execute_result"
    }
   ],
   "source": [
    "#i = 0\n",
    "#for each in df['Photo']:\n",
    "#    myjpg = requests.get(df['Photo'][i])\n",
    "#    open(r\"D:/project/1_fifa19/{}.png\".format(df['ID'][i]), \"wb\").write(myjpg.content)\n",
    "#    i += 1\n",
    "\n",
    "i=0\n",
    "myjpg = requests.get(df['Photo'][i])\n",
    "open(r\"D:/project/1_fifa19/{}.png\".format(df['ID'][i]), \"wb\").write(myjpg.content)"
   ]
  }
 ],
 "metadata": {
  "kernelspec": {
   "display_name": "Python 3",
   "language": "python",
   "name": "python3"
  },
  "language_info": {
   "codemirror_mode": {
    "name": "ipython",
    "version": 3
   },
   "file_extension": ".py",
   "mimetype": "text/x-python",
   "name": "python",
   "nbconvert_exporter": "python",
   "pygments_lexer": "ipython3",
   "version": "3.7.0"
  }
 },
 "nbformat": 4,
 "nbformat_minor": 2
}
